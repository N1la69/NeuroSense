{
 "cells": [
  {
   "cell_type": "code",
   "execution_count": 2,
   "id": "925315a9",
   "metadata": {},
   "outputs": [
    {
     "name": "stdout",
     "output_type": "stream",
     "text": [
      "✅ Saved testData_channels_csv\\Channel_1.csv\n",
      "✅ Saved testData_channels_csv\\Channel_2.csv\n",
      "✅ Saved testData_channels_csv\\Channel_3.csv\n",
      "✅ Saved testData_channels_csv\\Channel_4.csv\n",
      "✅ Saved testData_channels_csv\\Channel_5.csv\n",
      "✅ Saved testData_channels_csv\\Channel_6.csv\n",
      "✅ Saved testData_channels_csv\\Channel_7.csv\n",
      "✅ Saved testData_channels_csv\\Channel_8.csv\n",
      "\n",
      "All channels saved successfully to folder: 'testData_channels_csv'\n"
     ]
    }
   ],
   "source": [
    "import scipy.io\n",
    "import pandas as pd\n",
    "import numpy as np\n",
    "import os\n",
    "\n",
    "# Define file path\n",
    "file_path = \"../data/SBJ01/S01/Test/testData.mat\"\n",
    "\n",
    "# Load the .mat file\n",
    "mat = scipy.io.loadmat(file_path)\n",
    "data = mat[\"testData\"]  # Shape: (8, 350, 2400)\n",
    "\n",
    "# Create an output folder\n",
    "output_dir = \"testData_channels_csv\"\n",
    "os.makedirs(output_dir, exist_ok=True)\n",
    "\n",
    "# Loop through each channel\n",
    "for ch in range(data.shape[0]):\n",
    "    channel_data = data[ch]  # Shape: (350, 2400)\n",
    "    df = pd.DataFrame(channel_data, columns=[f\"t{i+1}\" for i in range(data.shape[2])])\n",
    "    df.index = [f\"Trial_{i+1}\" for i in range(data.shape[1])]\n",
    "    \n",
    "    output_path = os.path.join(output_dir, f\"Channel_{ch+1}.csv\")\n",
    "    df.to_csv(output_path)\n",
    "    print(f\"✅ Saved {output_path}\")\n",
    "\n",
    "print(f\"\\nAll channels saved successfully to folder: '{output_dir}'\")\n"
   ]
  }
 ],
 "metadata": {
  "kernelspec": {
   "display_name": "venv",
   "language": "python",
   "name": "python3"
  },
  "language_info": {
   "codemirror_mode": {
    "name": "ipython",
    "version": 3
   },
   "file_extension": ".py",
   "mimetype": "text/x-python",
   "name": "python",
   "nbconvert_exporter": "python",
   "pygments_lexer": "ipython3",
   "version": "3.13.7"
  }
 },
 "nbformat": 4,
 "nbformat_minor": 5
}
